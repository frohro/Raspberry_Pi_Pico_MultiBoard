{
 "cells": [
  {
   "cell_type": "markdown",
   "id": "209d4302",
   "metadata": {},
   "source": [
    "# Raspberry Pi Pico MultiBoard\n",
    "This project was created by the 2025 Intro to CAD EE/CPE Lab at Walla Walla University.  This repository is to collaborate in bringing the board up and sharing software related to it.  The Kicad design files are in the Hardware directory.  The I2C_Scanner directory is MicroPython code to scan the I2C buss for addresses.  "
   ]
  }
 ],
 "metadata": {
  "language_info": {
   "name": "python"
  }
 },
 "nbformat": 4,
 "nbformat_minor": 5
}
