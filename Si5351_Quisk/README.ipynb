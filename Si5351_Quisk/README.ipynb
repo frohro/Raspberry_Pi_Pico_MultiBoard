{
 "cells": [
  {
   "cell_type": "markdown",
   "id": "b47b3138",
   "metadata": {},
   "source": [
    "# This is Cayden's MicroPython code for his SDR Receiver\n",
    "\n",
    "The following files are used to interface with the openradio Quisk radio.  You need to have micropython on your pico.  In VScode you can use the MicroPico extension and upload the following files to the Pico:  ls.py (for listing files on the pico), main.py (this automatically runs when you plug in the Pico to USB), radio.py, and si5351.py\n",
    "The only command it responds to is the FREQ command, but that is mostly enough.  It sets the Si5351 frequency correctly."
   ]
  },
  {
   "cell_type": "markdown",
   "id": "63aa1015",
   "metadata": {},
   "source": []
  }
 ],
 "metadata": {
  "language_info": {
   "name": "python"
  }
 },
 "nbformat": 4,
 "nbformat_minor": 5
}
