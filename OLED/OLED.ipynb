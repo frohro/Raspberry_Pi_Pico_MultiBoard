{
 "cells": [
  {
   "cell_type": "markdown",
   "id": "1c927030",
   "metadata": {},
   "source": [
    "# This is the first basic OLED test software\n",
    "It comes from this [webesite.](https://randomnerdtutorials.com/raspberry-pi-pico-ssd1306-oled-micropython/)"
   ]
  },
  {
   "cell_type": "markdown",
   "id": "ab0f0c95",
   "metadata": {},
   "source": []
  }
 ],
 "metadata": {
  "language_info": {
   "name": "python"
  }
 },
 "nbformat": 4,
 "nbformat_minor": 5
}
