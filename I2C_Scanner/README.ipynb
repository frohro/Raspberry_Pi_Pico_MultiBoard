{
 "cells": [
  {
   "cell_type": "markdown",
   "id": "a55cecf1",
   "metadata": {},
   "source": [
    "# I2C Buss\n",
    "This directory contains debugging MicroPython code for the I2C buss.  This bus goes to the MS5351M programmable oscillator, the Si4732 receiver, the SSD1306 OLED and the LSM6DSO32TR accelerometer.  There are two scanner apps (one using hardware I2C and one using software I2C) for finding the I2C addresses of units on the buss.  There are no hardware pullup resistors, so you must use the internal pullup resistors on the Pico.\n",
    "## Bugs\n",
    "### SCL Won't Change State\n",
    "This is probably only on my board.  It used to work with SoftI2C at least with the OLED and the I2C scanner, (I2C Scanner may have worked on both hardware and software, but I had some issues with I2C in hardware for the OLED Display).  Now the SCL tries to chage (going back and forth about 0.2 volts on my TestGPIO4_5.py program) but it won't fully change, so no I2C works.\n"
   ]
  },
  {
   "cell_type": "markdown",
   "id": "1d4e98a1",
   "metadata": {},
   "source": []
  }
 ],
 "metadata": {
  "language_info": {
   "name": "python"
  }
 },
 "nbformat": 4,
 "nbformat_minor": 5
}
